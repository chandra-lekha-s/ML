{
  "nbformat": 4,
  "nbformat_minor": 0,
  "metadata": {
    "colab": {
      "name": "HierarchicalClustering.ipynb",
      "provenance": [],
      "collapsed_sections": []
    },
    "kernelspec": {
      "name": "python3",
      "display_name": "Python 3"
    },
    "language_info": {
      "name": "python"
    }
  },
  "cells": [
    {
      "cell_type": "code",
      "execution_count": null,
      "metadata": {
        "id": "hUyZaNETYWAx"
      },
      "outputs": [],
      "source": [
        "import numpy as np\n",
        "import matplotlib.pyplot as plt\n",
        "from scipy.cluster.hierarchy import dendrogram, linkage\n",
        "from sklearn.cluster import AgglomerativeClustering\n",
        "import pandas as pd  "
      ]
    },
    {
      "cell_type": "code",
      "source": [
        "# importing dataset\n",
        "data_set = pd.read_csv(\"/content/car_details.csv\")"
      ],
      "metadata": {
        "id": "Je3MqVi5ixyk"
      },
      "execution_count": null,
      "outputs": []
    },
    {
      "cell_type": "code",
      "source": [
        "print(data_set.head())"
      ],
      "metadata": {
        "colab": {
          "base_uri": "https://localhost:8080/"
        },
        "id": "GMroyTvdjF8Q",
        "outputId": "6d5c8bc4-1143-4e9d-b26e-169c96388e7c"
      },
      "execution_count": null,
      "outputs": [
        {
          "output_type": "stream",
          "name": "stdout",
          "text": [
            "                       name  year  selling_price  km_driven    fuel  \\\n",
            "0             Maruti 800 AC  2007          60000      70000  Petrol   \n",
            "1  Maruti Wagon R LXI Minor  2007         135000      50000  Petrol   \n",
            "2      Hyundai Verna 1.6 SX  2012         600000     100000  Diesel   \n",
            "3    Datsun RediGO T Option  2017         250000      46000  Petrol   \n",
            "4     Honda Amaze VX i-DTEC  2014         450000     141000  Diesel   \n",
            "\n",
            "  seller_type transmission         owner  \n",
            "0  Individual       Manual   First Owner  \n",
            "1  Individual       Manual   First Owner  \n",
            "2  Individual       Manual   First Owner  \n",
            "3  Individual       Manual   First Owner  \n",
            "4  Individual       Manual  Second Owner  \n"
          ]
        }
      ]
    },
    {
      "cell_type": "code",
      "source": [
        "#Extracting Independent and dependent Variable  \n",
        "x= data_set.iloc[:20, 2].values  \n",
        "y= data_set.iloc[:20,1].values"
      ],
      "metadata": {
        "id": "jPdi0VMUi_95"
      },
      "execution_count": null,
      "outputs": []
    },
    {
      "cell_type": "code",
      "source": [
        "print(x)\n",
        "print(y)"
      ],
      "metadata": {
        "colab": {
          "base_uri": "https://localhost:8080/"
        },
        "id": "h5EbH_WDjYnC",
        "outputId": "8467081a-61f9-4f3b-a035-48113f146622"
      },
      "execution_count": null,
      "outputs": [
        {
          "output_type": "stream",
          "name": "stdout",
          "text": [
            "[  60000  135000  600000  250000  450000  140000  550000  240000  850000\n",
            "  365000  260000  250000 1650000   60000  135000  600000  250000  450000\n",
            "  140000  550000]\n",
            "[2007 2007 2012 2017 2014 2007 2016 2014 2015 2017 2015 2014 2018 2007\n",
            " 2007 2012 2017 2014 2007 2016]\n"
          ]
        }
      ]
    },
    {
      "cell_type": "code",
      "source": [
        "data = list(zip(x, y))\n",
        "print(data)"
      ],
      "metadata": {
        "colab": {
          "base_uri": "https://localhost:8080/"
        },
        "id": "gDkQQWO1gNiY",
        "outputId": "9f3aab35-8e86-4da0-e49b-7bfb21c2c47a"
      },
      "execution_count": null,
      "outputs": [
        {
          "output_type": "stream",
          "name": "stdout",
          "text": [
            "[(60000, 2007), (135000, 2007), (600000, 2012), (250000, 2017), (450000, 2014), (140000, 2007), (550000, 2016), (240000, 2014), (850000, 2015), (365000, 2017), (260000, 2015), (250000, 2014), (1650000, 2018), (60000, 2007), (135000, 2007), (600000, 2012), (250000, 2017), (450000, 2014), (140000, 2007), (550000, 2016)]\n"
          ]
        }
      ]
    },
    {
      "cell_type": "code",
      "source": [
        "linkage_data = linkage(data, method='complete', metric='euclidean') #check with\n",
        "#single complete #ward\n",
        "dendrogram(linkage_data)\n",
        "plt.show()"
      ],
      "metadata": {
        "colab": {
          "base_uri": "https://localhost:8080/",
          "height": 279
        },
        "id": "RVOFp-9GgSDQ",
        "outputId": "cc06fb5b-255e-4c67-da9e-230e1ce4755c"
      },
      "execution_count": null,
      "outputs": [
        {
          "output_type": "display_data",
          "data": {
            "text/plain": [
              "<Figure size 432x288 with 1 Axes>"
            ],
            "image/png": "[encoded data removed]"
          },
          "metadata": {
            "needs_background": "light"
          }
        }
      ]
    },
    {
      "cell_type": "code",
      "source": [
        "hierarchical_cluster = AgglomerativeClustering(n_clusters=2, affinity='euclidean',\n",
        "linkage='complete')"
      ],
      "metadata": {
        "id": "mW8v824FgpSO"
      },
      "execution_count": null,
      "outputs": []
    },
    {
      "cell_type": "code",
      "source": [
        "#Number of clusters will be detrmined by means of Elbow Method, Silhouette\n",
        "#Coefficient, Dendrogram\n",
        "labels = hierarchical_cluster.fit_predict(data)\n",
        "print(labels)\n",
        "plt.scatter(x, y, c=labels)\n",
        "plt.show()"
      ],
      "metadata": {
        "colab": {
          "base_uri": "https://localhost:8080/",
          "height": 295
        },
        "id": "FYpgj7bdgybu",
        "outputId": "d65cb4df-464e-4ffe-bbd9-03abb619edb9"
      },
      "execution_count": null,
      "outputs": [
        {
          "output_type": "stream",
          "name": "stdout",
          "text": [
            "[0 0 0 0 0 0 0 0 0 0 0 0 1 0 0 0 0 0 0 0]\n"
          ]
        },
        {
          "output_type": "display_data",
          "data": {
            "text/plain": [
              "<Figure size 432x288 with 1 Axes>"
            ],
            "image/png": "[encoded data removed]"
          },
          "metadata": {
            "needs_background": "light"
          }
        }
      ]
    }
  ]
}